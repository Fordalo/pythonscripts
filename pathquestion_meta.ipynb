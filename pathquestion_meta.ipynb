{
  "nbformat": 4,
  "nbformat_minor": 0,
  "metadata": {
    "colab": {
      "name": "pathquestion_meta.ipynb",
      "provenance": [],
      "authorship_tag": "ABX9TyNRGmynQdwi3Z+zUKl/CUFd",
      "include_colab_link": true
    },
    "kernelspec": {
      "name": "python3",
      "display_name": "Python 3"
    },
    "language_info": {
      "name": "python"
    }
  },
  "cells": [
    {
      "cell_type": "markdown",
      "metadata": {
        "id": "view-in-github",
        "colab_type": "text"
      },
      "source": [
        "<a href=\"https://colab.research.google.com/github/Fordalo/pythonscripts/blob/main/pathquestion_meta.ipynb\" target=\"_parent\"><img src=\"https://colab.research.google.com/assets/colab-badge.svg\" alt=\"Open In Colab\"/></a>"
      ]
    },
    {
      "cell_type": "markdown",
      "source": [
        "| cwd      | cd (arg)       | output\n",
        "| -------- | -------------- | ------\n",
        "| /        | foo            | /foo\n",
        "| /baz     | /bar           | /bar\n",
        "| /foo/bar | ../../../../.. | /\n",
        "| /x/y     | ../p/../q      | /x/q\n",
        "| /x/y     | /p/./q         | /p/q\n",
        "\n",
        "\n",
        ". = same dir\n",
        ".. = go back 1 dir\n",
        "if not move to next folder"
      ],
      "metadata": {
        "id": "PD_opc_94S9c"
      }
    },
    {
      "cell_type": "code",
      "execution_count": 20,
      "metadata": {
        "colab": {
          "base_uri": "https://localhost:8080/"
        },
        "id": "LNJ9D4TQ3-20",
        "outputId": "8c88e1e8-ad18-4e60-ccb0-25e374154d41"
      },
      "outputs": [
        {
          "output_type": "stream",
          "name": "stdout",
          "text": [
            "/pain/log/daghedo\n"
          ]
        }
      ],
      "source": [
        "\n",
        "def genCD(cwd, cd):\n",
        "    text = cd\n",
        "    text2 = cwd\n",
        "\n",
        "    cdarray = text.split('/')\n",
        "    cwdarray = text2.split('/')\n",
        "    cwdsize = len(cwdarray)\n",
        "\n",
        "    for i in cdarray:\n",
        "      if i == '..':\n",
        "        cwdarray == cwdarray.pop(cwdsize - 1)\n",
        "      elif i == '.':\n",
        "        cwdarray == cwdarray\n",
        "      else:\n",
        "        cwdarray.append(i)\n",
        "\n",
        "    print('/'.join(map(str, cwdarray)))\n",
        "\n",
        "genCD('/pain/suffering', '../pain/./suffering/log/./daghedo/../..')\n",
        "\n"
      ]
    }
  ]
}